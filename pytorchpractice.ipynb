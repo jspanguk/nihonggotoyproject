{
 "cells": [
  {
   "cell_type": "code",
   "execution_count": 54,
   "metadata": {},
   "outputs": [],
   "source": [
    "import numpy as np\n",
    "def Relu(x, y):\n",
    "    for i in x :\n",
    "        m = max(0,i)\n",
    "        print(m)\n",
    "        n = np.append(y,np.array([m]))\n",
    "        print(n)\n",
    "    return y\n",
    "\n",
    "    "
   ]
  },
  {
   "cell_type": "code",
   "execution_count": 55,
   "metadata": {},
   "outputs": [
    {
     "name": "stdout",
     "output_type": "stream",
     "text": [
      "[0.05 0.26 0.47]\n",
      "0.049999999999999996\n",
      "[0.05]\n",
      "0.26\n",
      "[0.26]\n",
      "0.47000000000000003\n",
      "[0.47]\n",
      "[]\n"
     ]
    }
   ],
   "source": [
    "### 순전파 np로 해보기 (비선형 변환 Relu 사용 ###\n",
    "# 입력값 a0\n",
    "a0 = np.array([1.3, 0.8])\n",
    "# 첫 가중치 w1\n",
    "w1 = np.array([[0.1, 0.2, 0.3],[-0.1, 0, 0.1]])\n",
    "# matmul 계산하여 은닉층의 첫번째 layer 구하기\n",
    "a1 = np.matmul(a0,w1)\n",
    "print(a1)\n",
    "\n",
    "\n",
    "# 선형변환 Relu\n",
    "# Relu(a1)\n",
    "# print(Relu(a1))\n",
    "# print()\n",
    "\n",
    "r1 = np.array([])\n",
    "Relu(a1, r1)\n",
    "print(r1)\n",
    "\n",
    "\n",
    "\n",
    "# # 다중치 w2\n",
    "# w2 = np.array([[0.1, 0.2, 0.3],[0, 0.1, 0.2],[-0.1, 0, 0.1]])\n",
    "# # 두번째 은닉층 a2 구하기\n",
    "# a2 = np.matmul(a1,w2)\n",
    "# print(a2)\n",
    "# # a2를 비선형변환하여 r2 반환\n",
    "# r2 = np.array([])\n",
    "# nonlinear(a2,r2)\n",
    "# print(r2)\n",
    "\n",
    "# # 가중치 w3\n",
    "\n"
   ]
  }
 ],
 "metadata": {
  "kernelspec": {
   "display_name": "Python 3.8.13 ('lawboto')",
   "language": "python",
   "name": "python3"
  },
  "language_info": {
   "codemirror_mode": {
    "name": "ipython",
    "version": 3
   },
   "file_extension": ".py",
   "mimetype": "text/x-python",
   "name": "python",
   "nbconvert_exporter": "python",
   "pygments_lexer": "ipython3",
   "version": "3.8.13"
  },
  "orig_nbformat": 4,
  "vscode": {
   "interpreter": {
    "hash": "9fb98dc358fa80a8550be7216845db39beb3208d4ae907afb0e1c1800c08622e"
   }
  }
 },
 "nbformat": 4,
 "nbformat_minor": 2
}
