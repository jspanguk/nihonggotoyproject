{
 "cells": [
  {
   "cell_type": "code",
   "execution_count": 131,
   "metadata": {},
   "outputs": [],
   "source": [
    "import numpy as np\n",
    "\n",
    "def Relu(x):\n",
    "\n",
    "   return np.maximum(0, x)\n",
    "\n",
    "\n",
    "\n",
    "# ex = np.random.rand(3)\n",
    "# print(ex)\n",
    "\n",
    "# a = Relu(ex)\n",
    "\n",
    "    "
   ]
  },
  {
   "cell_type": "code",
   "execution_count": 132,
   "metadata": {},
   "outputs": [
    {
     "name": "stdout",
     "output_type": "stream",
     "text": [
      "0.0036000000000000008\n",
      "0.24641296000000001\n"
     ]
    }
   ],
   "source": [
    "### 순전파 Numpy 로 해보기 (비선형 변환 Relu 사용) ###\n",
    "\n",
    "# 입력값 a0\n",
    "a0 = np.array([1.3, 0.8])\n",
    "\n",
    "# 첫 가중치 w1\n",
    "w1 = np.array([[0.1, 0.2, 0.3],[-0.1, 0, 0.1]])\n",
    "\n",
    "# matmul 계산하여 은닉층의 첫번째 layer a1 구하기\n",
    "a1 = np.matmul(a0,w1)\n",
    "\n",
    "\n",
    "\n",
    "# 선형변환 Relu 에 a1을 넣어 비선형변환된 r1 반환\n",
    "\n",
    "\n",
    "r1 = Relu(a1)\n",
    "\n",
    "# r1을 다시 가중치와 행렬곱하여 은닉층의 두번재 layer a2 를 반환\n",
    "\n",
    "w2 = np.array([[0.1, 0.2, 0.3],[0, 0.1, 0.2],[-0.1, 0, 0.1]])\n",
    "\n",
    "a2 = np.matmul(r1, w2)\n",
    "\n",
    "\n",
    "\n",
    "# a2를 비선형변환 Relu에 넣어 r2 반환\n",
    "\n",
    "\n",
    "\n",
    "r2 = Relu(a2)\n",
    "\n",
    "\n",
    "\n",
    "# 가중치 w3에 r2를 행렬곱하여 추론값 a3 생성\n",
    "\n",
    "w3 = np.array([0.2, 0.1, 0])\n",
    "\n",
    "\n",
    "a3 = np.matmul(r2, w3)\n",
    "\n",
    "\n",
    "print(a3)\n",
    "\n",
    "# 추론값 a3을 구하는 과정까지가 회귀문제의 순전파이다. \n",
    "\n",
    "\n",
    "\n",
    "# 회귀문제의 추론값 a3은 비선형변환을 하지 않음. 실제값 0.5과의 비교로 오차er 을 계산 가능\n",
    "ta = 0.5\n",
    "\n",
    "er = (ta - a3)**2\n",
    "\n",
    "print(er)\n",
    "\n",
    "\n",
    "\n"
   ]
  },
  {
   "cell_type": "code",
   "execution_count": 123,
   "metadata": {},
   "outputs": [
    {
     "name": "stdout",
     "output_type": "stream",
     "text": [
      "<built-in function array>\n"
     ]
    }
   ],
   "source": [
    "class Relu:\n",
    "    def __init__(self):\n",
    "        self.mask = None\n",
    "        \n",
    "        \n",
    "    def forward(self, x: np.array):\n",
    "        self.mask = (x <= 0)    #\n",
    "        out = x.copy()\n",
    "        out[self.mask] = 0\n",
    "        return out\n",
    "    \n",
    "    def backward(self, dout):\n",
    "        dout[self.mask] = 0\n",
    "        dx = dout\n",
    "        return dx\n",
    "\n",
    "main = Relu()\n",
    "\n",
    "a = np.array\n",
    "print(a)\n",
    "\n",
    "\n"
   ]
  }
 ],
 "metadata": {
  "kernelspec": {
   "display_name": "Python 3.8.13 ('lawboto')",
   "language": "python",
   "name": "python3"
  },
  "language_info": {
   "codemirror_mode": {
    "name": "ipython",
    "version": 3
   },
   "file_extension": ".py",
   "mimetype": "text/x-python",
   "name": "python",
   "nbconvert_exporter": "python",
   "pygments_lexer": "ipython3",
   "version": "3.8.13"
  },
  "orig_nbformat": 4,
  "vscode": {
   "interpreter": {
    "hash": "9fb98dc358fa80a8550be7216845db39beb3208d4ae907afb0e1c1800c08622e"
   }
  }
 },
 "nbformat": 4,
 "nbformat_minor": 2
}
