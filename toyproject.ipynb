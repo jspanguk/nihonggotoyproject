{
 "cells": [
  {
   "cell_type": "code",
   "execution_count": 9,
   "metadata": {},
   "outputs": [
    {
     "name": "stdout",
     "output_type": "stream",
     "text": [
      "べ\n",
      "['し', 'ゃ', 'べ', 'る']\n"
     ]
    }
   ],
   "source": [
    "import re\n",
    "\n",
    "nihonggo_input = input()\n",
    "\n",
    "regEX = r'[ぁ-ん]' #しゃべる\n",
    "\n",
    "heragana_regEX = re.compile(regEX)\n",
    "edan_regEX = r'[え,け,げ,せ,ぜ,て,で,ね,へ,べ,ぺ,め,れ]'\n",
    "idan_regEX = r'[い,き,ぎ,し,じ,ち,ぢ,に,ひ,び,ぴ,み,り]'\n",
    "\n",
    "matching_hiragana = re.findall(heragana_regEX,nihonggo_input)\n",
    "\n",
    "if matching_hiragana[-1] == 'る': \n",
    "    if r'[い,き,ぎ,し,じ,ち,ぢ,に,ひ,び,ぴ,み,り]' in matching_hiragana[-2] or r'[え,け,げ,せ,ぜ,て,で,ね,へ,べ,ぺ,め,れ]' in matching_hiragana[-2] :\n",
    "        print('{nihonggo_input} は 一段動詞です')\n",
    "\n",
    "else:\n",
    "    print('{nihonggo_input} は 一段動詞でわないです')\n",
    "\n",
    "print(matching_hiragana)\n"
   ]
  }
 ],
 "metadata": {
  "kernelspec": {
   "display_name": "Python 3.8.13 ('lawboto')",
   "language": "python",
   "name": "python3"
  },
  "language_info": {
   "codemirror_mode": {
    "name": "ipython",
    "version": 3
   },
   "file_extension": ".py",
   "mimetype": "text/x-python",
   "name": "python",
   "nbconvert_exporter": "python",
   "pygments_lexer": "ipython3",
   "version": "3.8.13"
  },
  "orig_nbformat": 4,
  "vscode": {
   "interpreter": {
    "hash": "9fb98dc358fa80a8550be7216845db39beb3208d4ae907afb0e1c1800c08622e"
   }
  }
 },
 "nbformat": 4,
 "nbformat_minor": 2
}
