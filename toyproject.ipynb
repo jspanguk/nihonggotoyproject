{
 "cells": [
  {
   "cell_type": "code",
   "execution_count": 7,
   "metadata": {},
   "outputs": [
    {
     "name": "stdout",
     "output_type": "stream",
     "text": [
      "喋る[しゃべる]\n",
      "[{'orig': '喋る', 'hira': 'しゃべる', 'kana': 'シャベル', 'hepburn': 'shaberu', 'kunrei': 'syaberu', 'passport': 'shaberu'}]\n"
     ]
    }
   ],
   "source": [
    "import pykakasi\n",
    "import re\n",
    "kks = pykakasi.kakasi()\n",
    "text = \"喋る\" #しゃべる\n",
    "result = kks.convert(text)\n",
    "\n",
    "# 기본형 , 히라가나, 카타카나, 헵번식로마자표기, 훈령식로마자표기, 여권표기\n",
    "for item in result :\n",
    "    print(\"{}[{}]\".format(item['orig'],item['hira']))\n",
    "\n",
    "print(result)\n",
    "\n"
   ]
  },
  {
   "cell_type": "code",
   "execution_count": 17,
   "metadata": {},
   "outputs": [
    {
     "name": "stdout",
     "output_type": "stream",
     "text": [
      "しゃべる\n",
      "\n",
      "['し', 'ゃ', 'べ', 'る']\n",
      "べ\n"
     ]
    }
   ],
   "source": [
    "\n",
    "# 한자 또는 히라가나 입력\n",
    "from ast import Or\n",
    "\n",
    "\n",
    "nihonggo_input = input()\n",
    "if nihonggo_input != True :\n",
    "    nihonggo_input = '喋る'\n",
    "\n",
    "# \n",
    "nihonggo_to_kakasi = kks.convert(nihonggo_input)\n",
    "kakasi_to_hira = nihonggo_to_kakasi[0]['hira']\n",
    "print(kakasi_to_hira)\n",
    "\n",
    "\n",
    "\n",
    "regEX = r'[ぁ-ん]' #しゃべる\n",
    "edan_regEX = r'[え,け,げ,せ,ぜ,て,で,ね,へ,べ,ぺ,め,れ]'\n",
    "idan_regEX = r'[い,き,ぎ,し,じ,ち,ぢ,に,ひ,び,ぴ,み,り]'\n",
    "\n",
    "heragana_regEX = re.compile(regEX)\n",
    "finding_hira = re.findall(heragana_regEX,kakasi_to_hira)\n",
    "\n",
    "\n",
    "print()\n",
    "print(finding_hira)\n",
    "\n",
    "if finding_hira[-1] == 'る': \n",
    "    if r'[い,き,ぎ,し,じ,ち,ぢ,に,ひ,び,ぴ,み,り]' in finding_hira[-2] or r'[え,け,げ,せ,ぜ,て,で,ね,へ,べ,ぺ,め,れ]' in finding_hira[-2] :\n",
    "        print(' は 一段動詞です')\n",
    "    print(finding_hira[-2])\n",
    "\n",
    "else:\n",
    "    print(' は 一段動詞でわないです')\n",
    "\n"
   ]
  }
 ],
 "metadata": {
  "kernelspec": {
   "display_name": "Python 3.8.13 ('lawboto')",
   "language": "python",
   "name": "python3"
  },
  "language_info": {
   "codemirror_mode": {
    "name": "ipython",
    "version": 3
   },
   "file_extension": ".py",
   "mimetype": "text/x-python",
   "name": "python",
   "nbconvert_exporter": "python",
   "pygments_lexer": "ipython3",
   "version": "3.8.13"
  },
  "orig_nbformat": 4,
  "vscode": {
   "interpreter": {
    "hash": "9fb98dc358fa80a8550be7216845db39beb3208d4ae907afb0e1c1800c08622e"
   }
  }
 },
 "nbformat": 4,
 "nbformat_minor": 2
}
